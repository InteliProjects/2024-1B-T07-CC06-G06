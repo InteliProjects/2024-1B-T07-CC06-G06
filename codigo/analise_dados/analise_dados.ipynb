{
 "cells": [
  {
   "cell_type": "markdown",
   "metadata": {},
   "source": [
    "# Analise de dados - Parcial"
   ]
  },
  {
   "cell_type": "markdown",
   "metadata": {},
   "source": [
    "## importação das bibliotecas"
   ]
  },
  {
   "cell_type": "code",
   "execution_count": null,
   "metadata": {},
   "outputs": [],
   "source": [
    "import pandas as pd\n",
    "import seaborn as sns\n",
    "import matplotlib.pyplot as plt"
   ]
  },
  {
   "cell_type": "code",
   "execution_count": null,
   "metadata": {},
   "outputs": [],
   "source": [
    "df = pd.read_csv('../dataset/AMOSTRA_TOTAL.csv', sep=';')\n",
    "df.head()"
   ]
  },
  {
   "cell_type": "markdown",
   "metadata": {},
   "source": [
    "## Padronizando os dados"
   ]
  },
  {
   "cell_type": "code",
   "execution_count": null,
   "metadata": {},
   "outputs": [],
   "source": [
    "# Remover pontos extras e converter para formato numérico correto\n",
    "df['LATITUDE'] = df['LATITUDE'].str.replace('.', '').astype(float)\n",
    "df['LONGITUDE'] = df['LONGITUDE'].str.replace('.', '').astype(float)\n",
    "\n",
    "# Remover pontos extras e converter para formato numérico correto\n",
    "df['CODIGO_ROTA'] = df['CODIGO_ROTA'].str.replace('_', '')\n",
    "\n",
    "\n",
    "df.head()"
   ]
  },
  {
   "cell_type": "code",
   "execution_count": null,
   "metadata": {},
   "outputs": [],
   "source": [
    "# Normalizar nomes de logradouros (converter para minúsculas)\n",
    "df['LOGRADOURO'] = df['LOGRADOURO'].str.lower()\n",
    "\n",
    "df.head()"
   ]
  },
  {
   "cell_type": "code",
   "execution_count": null,
   "metadata": {},
   "outputs": [],
   "source": [
    "# Verificar valores faltantes\n",
    "valores_faltantes = df.isnull().sum()\n",
    "print(\"Valores faltantes:\\n\", valores_faltantes)\n",
    "\n",
    "df.head()"
   ]
  },
  {
   "cell_type": "markdown",
   "metadata": {},
   "source": [
    "### Plotando alguns gráficos\n"
   ]
  },
  {
   "cell_type": "code",
   "execution_count": null,
   "metadata": {},
   "outputs": [],
   "source": [
    "# frequencia de 'numero'\n",
    "numero_counts = df['NUMERO'].value_counts().head(20)\n",
    "plt.figure(figsize=(12, 6))\n",
    "sns.barplot(x=numero_counts.index, y=numero_counts.values, palette='magma')\n",
    "plt.title('Frequência dos Números de Endereço')\n",
    "plt.xlabel('Número')\n",
    "plt.ylabel('Contagem')\n",
    "plt.xticks(rotation=90)\n",
    "plt.show()\n"
   ]
  },
  {
   "cell_type": "code",
   "execution_count": null,
   "metadata": {},
   "outputs": [],
   "source": [
    "# frequencia de 'sequencia'\n",
    "numero_counts = df['SEQUENCIA'].value_counts().head(20)\n",
    "plt.figure(figsize=(12, 6))\n",
    "sns.barplot(x=numero_counts.index, y=numero_counts.values, palette='summer')\n",
    "plt.title('Frequência dos Números de Endereço')\n",
    "plt.xlabel('Número')\n",
    "plt.ylabel('Contagem')\n",
    "plt.xticks(rotation=90)\n",
    "plt.show()"
   ]
  },
  {
   "cell_type": "code",
   "execution_count": null,
   "metadata": {},
   "outputs": [],
   "source": [
    "# Filtrando os top 20 logradouros mais frequentes para visualização\n",
    "top_logradouros = df['LOGRADOURO'].value_counts().head(20).index\n",
    "filtered_df = df[df['LOGRADOURO'].isin(top_logradouros)]\n",
    "\n",
    "plt.figure(figsize=(12, 6))\n",
    "sns.countplot(y='LOGRADOURO', data=filtered_df, order=top_logradouros, palette='viridis')\n",
    "plt.title('Contagem dos Números por Logradouro')\n",
    "plt.xlabel('Contagem')\n",
    "plt.ylabel('Logradouro')\n",
    "plt.show()\n"
   ]
  }
 ],
 "metadata": {
  "kernelspec": {
   "display_name": "Python 3",
   "language": "python",
   "name": "python3"
  },
  "language_info": {
   "codemirror_mode": {
    "name": "ipython",
    "version": 3
   },
   "file_extension": ".py",
   "mimetype": "text/x-python",
   "name": "python",
   "nbconvert_exporter": "python",
   "pygments_lexer": "ipython3",
   "version": "3.9.9"
  }
 },
 "nbformat": 4,
 "nbformat_minor": 2
}
